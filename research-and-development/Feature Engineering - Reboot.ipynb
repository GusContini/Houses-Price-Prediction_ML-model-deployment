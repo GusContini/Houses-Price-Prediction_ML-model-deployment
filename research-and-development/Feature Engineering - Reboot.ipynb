{
 "cells": [
  {
   "cell_type": "code",
   "execution_count": 1,
   "metadata": {},
   "outputs": [],
   "source": [
    "# handle datasets\n",
    "import pandas as pd\n",
    "import numpy as np\n",
    "# plotting\n",
    "import matplotlib.pyplot as plt\n",
    "# save the pipeline\n",
    "import joblib\n",
    "# from Scikit-learn\n",
    "from sklearn.model_selection import train_test_split\n",
    "from sklearn.pipeline import Pipeline\n",
    "from sklearn.preprocessing import MinMaxScaler, Binarizer\n",
    "# from feature-engine\n",
    "from feature_engine.imputation import (\n",
    "    AddMissingIndicator,\n",
    "    MeanMedianImputer,\n",
    "    CategoricalImputer,\n",
    ")\n",
    "from feature_engine.encoding import (\n",
    "    RareLabelEncoder,\n",
    "    OrdinalEncoder,\n",
    ")\n",
    "from feature_engine.transformation import (\n",
    "    LogTransformer,\n",
    "    YeoJohnsonTransformer,\n",
    ")\n",
    "from feature_engine.selection import DropFeatures\n",
    "from feature_engine.wrappers import SklearnTransformerWrapper\n",
    "\n",
    "pd.pandas.set_option('display.max_columns', None)"
   ]
  },
  {
   "cell_type": "code",
   "execution_count": 2,
   "metadata": {},
   "outputs": [
    {
     "name": "stdout",
     "output_type": "stream",
     "text": [
      "(1460, 81)\n"
     ]
    }
   ],
   "source": [
    "# load dataset\n",
    "data = pd.read_csv('../datasets/train.csv')\n",
    "print(data.shape)"
   ]
  },
  {
   "cell_type": "code",
   "execution_count": 3,
   "metadata": {},
   "outputs": [
    {
     "name": "stdout",
     "output_type": "stream",
     "text": [
      "(1314, 79) (146, 79)\n",
      "(1314,) (146,)\n"
     ]
    }
   ],
   "source": [
    "# train/test split\n",
    "X_train, X_test, y_train, y_test = train_test_split(\n",
    "    data.drop(['Id', 'SalePrice'], axis=1),\n",
    "    data['SalePrice'],\n",
    "    test_size=0.1,\n",
    "    random_state=0\n",
    ")\n",
    "\n",
    "print(X_train.shape, X_test.shape)\n",
    "print(y_train.shape, y_test.shape)"
   ]
  },
  {
   "cell_type": "code",
   "execution_count": 4,
   "metadata": {},
   "outputs": [],
   "source": [
    "# target\n",
    "y_train = np.log(y_train)\n",
    "y_test = np.log(y_test)"
   ]
  },
  {
   "cell_type": "code",
   "execution_count": 5,
   "metadata": {},
   "outputs": [
    {
     "name": "stdout",
     "output_type": "stream",
     "text": [
      "44\n"
     ]
    }
   ],
   "source": [
    "cat_vars = [var for var in data.columns if data[var].dtype=='O']\n",
    "cat_vars = cat_vars + ['MSSubClass']\n",
    "\n",
    "X_train[cat_vars] = X_train[cat_vars].astype('O')\n",
    "X_test[cat_vars] = X_test[cat_vars].astype('O')\n",
    "\n",
    "print(len(cat_vars))"
   ]
  },
  {
   "cell_type": "code",
   "execution_count": 6,
   "metadata": {},
   "outputs": [],
   "source": [
    "cat_vars_with_na = [\n",
    "    var for var in cat_vars\n",
    "    if X_train[var].isnull().sum() > 0\n",
    "]"
   ]
  },
  {
   "cell_type": "code",
   "execution_count": 7,
   "metadata": {},
   "outputs": [],
   "source": [
    "# variables with missing prevalence: the strategy is to fill NaNs with 'missing' string\n",
    "with_string_missing = [\n",
    "    var for var in cat_vars_with_na if X_train[var].isnull().mean() > 0.1\n",
    "]\n",
    "# variables without missing prevalence: the strategy is to fill NaNs with most frequent category\n",
    "with_frequent_category = [\n",
    "    var for var in cat_vars_with_na if X_train[var].isnull().mean() <= 0.1\n",
    "]"
   ]
  },
  {
   "cell_type": "code",
   "execution_count": 8,
   "metadata": {},
   "outputs": [
    {
     "data": {
      "text/plain": [
       "{'Alley': 'Missing',\n",
       " 'MasVnrType': 'Missing',\n",
       " 'FireplaceQu': 'Missing',\n",
       " 'PoolQC': 'Missing',\n",
       " 'Fence': 'Missing',\n",
       " 'MiscFeature': 'Missing'}"
      ]
     },
     "execution_count": 8,
     "metadata": {},
     "output_type": "execute_result"
    }
   ],
   "source": [
    "# replace missing values with new label: missing\n",
    "cat_imputer_missing = CategoricalImputer(\n",
    "    imputation_method='missing', variables=with_string_missing\n",
    ")\n",
    "# fit the class to the trains et\n",
    "cat_imputer_missing.fit(X_train)\n",
    "# the class learns and stores the parameters\n",
    "cat_imputer_missing.imputer_dict_"
   ]
  },
  {
   "cell_type": "code",
   "execution_count": 9,
   "metadata": {},
   "outputs": [],
   "source": [
    "# replace NA by \"Missing\"\n",
    "X_train = cat_imputer_missing.transform(X_train)\n",
    "X_test = cat_imputer_missing.transform(X_test)"
   ]
  },
  {
   "cell_type": "code",
   "execution_count": 10,
   "metadata": {},
   "outputs": [
    {
     "data": {
      "text/plain": [
       "{'BsmtQual': 'TA',\n",
       " 'BsmtCond': 'TA',\n",
       " 'BsmtExposure': 'No',\n",
       " 'BsmtFinType1': 'Unf',\n",
       " 'BsmtFinType2': 'Unf',\n",
       " 'Electrical': 'SBrkr',\n",
       " 'GarageType': 'Attchd',\n",
       " 'GarageFinish': 'Unf',\n",
       " 'GarageQual': 'TA',\n",
       " 'GarageCond': 'TA'}"
      ]
     },
     "execution_count": 10,
     "metadata": {},
     "output_type": "execute_result"
    }
   ],
   "source": [
    "# replace missing with the most frequent value\n",
    "\n",
    "## set up class\n",
    "cat_imputer_frequent = CategoricalImputer(\n",
    "    imputation_method='frequent', variables=with_frequent_category\n",
    ")\n",
    "\n",
    "## fit the class to the train set\n",
    "cat_imputer_frequent.fit(X_train)\n",
    "\n",
    "# the class learns and stores the parameters\n",
    "cat_imputer_frequent.imputer_dict_"
   ]
  },
  {
   "cell_type": "code",
   "execution_count": 11,
   "metadata": {},
   "outputs": [],
   "source": [
    "# replace NA by the most frequent value \n",
    "X_train = cat_imputer_frequent.transform(X_train)\n",
    "X_test = cat_imputer_frequent.transform(X_test)"
   ]
  },
  {
   "cell_type": "code",
   "execution_count": 12,
   "metadata": {},
   "outputs": [
    {
     "data": {
      "text/plain": [
       "Alley           0\n",
       "MasVnrType      0\n",
       "BsmtQual        0\n",
       "BsmtCond        0\n",
       "BsmtExposure    0\n",
       "BsmtFinType1    0\n",
       "BsmtFinType2    0\n",
       "Electrical      0\n",
       "FireplaceQu     0\n",
       "GarageType      0\n",
       "GarageFinish    0\n",
       "GarageQual      0\n",
       "GarageCond      0\n",
       "PoolQC          0\n",
       "Fence           0\n",
       "MiscFeature     0\n",
       "dtype: int64"
      ]
     },
     "execution_count": 12,
     "metadata": {},
     "output_type": "execute_result"
    }
   ],
   "source": [
    "X_train[cat_vars_with_na].isnull().sum()"
   ]
  },
  {
   "cell_type": "code",
   "execution_count": 13,
   "metadata": {},
   "outputs": [
    {
     "name": "stdout",
     "output_type": "stream",
     "text": [
      "35\n"
     ]
    }
   ],
   "source": [
    "# vars with numerical values\n",
    "num_vars = [\n",
    "    var for var in X_train.columns if var not in cat_vars and var != 'SalePrice'\n",
    "    ]\n",
    "print(len(num_vars))"
   ]
  },
  {
   "cell_type": "code",
   "execution_count": 14,
   "metadata": {},
   "outputs": [
    {
     "data": {
      "text/plain": [
       "LotFrontage    0.177321\n",
       "MasVnrArea     0.004566\n",
       "GarageYrBlt    0.056317\n",
       "dtype: float64"
      ]
     },
     "execution_count": 14,
     "metadata": {},
     "output_type": "execute_result"
    }
   ],
   "source": [
    "# numerical vars with missing\n",
    "vars_with_na = [\n",
    "    var for var in num_vars\n",
    "    if X_train[var].isnull().sum() > 0\n",
    "]\n",
    "\n",
    "X_train[vars_with_na].isnull().mean()"
   ]
  },
  {
   "cell_type": "code",
   "execution_count": 15,
   "metadata": {},
   "outputs": [
    {
     "data": {
      "text/html": [
       "<div>\n",
       "<style scoped>\n",
       "    .dataframe tbody tr th:only-of-type {\n",
       "        vertical-align: middle;\n",
       "    }\n",
       "\n",
       "    .dataframe tbody tr th {\n",
       "        vertical-align: top;\n",
       "    }\n",
       "\n",
       "    .dataframe thead th {\n",
       "        text-align: right;\n",
       "    }\n",
       "</style>\n",
       "<table border=\"1\" class=\"dataframe\">\n",
       "  <thead>\n",
       "    <tr style=\"text-align: right;\">\n",
       "      <th></th>\n",
       "      <th>LotFrontage_na</th>\n",
       "      <th>MasVnrArea_na</th>\n",
       "      <th>GarageYrBlt_na</th>\n",
       "    </tr>\n",
       "  </thead>\n",
       "  <tbody>\n",
       "    <tr>\n",
       "      <th>930</th>\n",
       "      <td>0</td>\n",
       "      <td>0</td>\n",
       "      <td>0</td>\n",
       "    </tr>\n",
       "    <tr>\n",
       "      <th>656</th>\n",
       "      <td>0</td>\n",
       "      <td>0</td>\n",
       "      <td>0</td>\n",
       "    </tr>\n",
       "    <tr>\n",
       "      <th>45</th>\n",
       "      <td>0</td>\n",
       "      <td>0</td>\n",
       "      <td>0</td>\n",
       "    </tr>\n",
       "    <tr>\n",
       "      <th>1348</th>\n",
       "      <td>1</td>\n",
       "      <td>0</td>\n",
       "      <td>0</td>\n",
       "    </tr>\n",
       "    <tr>\n",
       "      <th>55</th>\n",
       "      <td>0</td>\n",
       "      <td>0</td>\n",
       "      <td>0</td>\n",
       "    </tr>\n",
       "  </tbody>\n",
       "</table>\n",
       "</div>"
      ],
      "text/plain": [
       "      LotFrontage_na  MasVnrArea_na  GarageYrBlt_na\n",
       "930                0              0               0\n",
       "656                0              0               0\n",
       "45                 0              0               0\n",
       "1348               1              0               0\n",
       "55                 0              0               0"
      ]
     },
     "execution_count": 15,
     "metadata": {},
     "output_type": "execute_result"
    }
   ],
   "source": [
    "# add missing indicator\n",
    "\n",
    "missing_ind = AddMissingIndicator(variables=vars_with_na)\n",
    "missing_ind.fit(X_train)\n",
    "\n",
    "X_train = missing_ind.transform(X_train)\n",
    "X_test = missing_ind.transform(X_test)\n",
    "\n",
    "X_train[['LotFrontage_na', 'MasVnrArea_na', 'GarageYrBlt_na']].head()"
   ]
  },
  {
   "cell_type": "code",
   "execution_count": 16,
   "metadata": {},
   "outputs": [
    {
     "data": {
      "text/plain": [
       "{'LotFrontage': 69.87974098057354,\n",
       " 'MasVnrArea': 103.7974006116208,\n",
       " 'GarageYrBlt': 1978.2959677419356}"
      ]
     },
     "execution_count": 16,
     "metadata": {},
     "output_type": "execute_result"
    }
   ],
   "source": [
    "# then replace missing data with the mean\n",
    "\n",
    "# set the imputer\n",
    "mean_imputer = MeanMedianImputer(\n",
    "    imputation_method='mean', variables=vars_with_na\n",
    ")\n",
    "\n",
    "mean_imputer.fit(X_train)\n",
    "\n",
    "mean_imputer.imputer_dict_"
   ]
  },
  {
   "cell_type": "code",
   "execution_count": 17,
   "metadata": {},
   "outputs": [],
   "source": [
    "X_train = mean_imputer.transform(X_train)\n",
    "X_test = mean_imputer.transform(X_test)"
   ]
  },
  {
   "cell_type": "code",
   "execution_count": 18,
   "metadata": {},
   "outputs": [
    {
     "data": {
      "text/plain": [
       "LotFrontage    0.0\n",
       "MasVnrArea     0.0\n",
       "GarageYrBlt    0.0\n",
       "dtype: float64"
      ]
     },
     "execution_count": 18,
     "metadata": {},
     "output_type": "execute_result"
    }
   ],
   "source": [
    "X_train[vars_with_na].isnull().mean()"
   ]
  },
  {
   "cell_type": "code",
   "execution_count": 19,
   "metadata": {},
   "outputs": [],
   "source": [
    "def elapsed_years(df, var):\n",
    "    df[var] = df['YrSold'] - df[var]\n",
    "    return df\n",
    "\n",
    "for var in ['YearBuilt', 'YearRemodAdd', 'GarageYrBlt']:\n",
    "    X_train = elapsed_years(X_train, var)\n",
    "    X_test = elapsed_years(X_test, var)"
   ]
  },
  {
   "cell_type": "code",
   "execution_count": 20,
   "metadata": {},
   "outputs": [],
   "source": [
    "# drop YrSold\n",
    "drop_features = DropFeatures(features_to_drop=['YrSold'])\n",
    "\n",
    "X_train = drop_features.fit_transform(X_train)\n",
    "X_test = drop_features.transform(X_test)"
   ]
  },
  {
   "cell_type": "code",
   "execution_count": 21,
   "metadata": {},
   "outputs": [],
   "source": [
    "# Numerical Transformations\n",
    "\n",
    "# Log Transform\n",
    "log_transform = LogTransformer(\n",
    "    variables=['LotFrontage', '1stFlrSF', 'GrLivArea']\n",
    ")\n",
    "\n",
    "X_train = log_transform.fit_transform(X_train)\n",
    "X_test = log_transform.transform(X_test)"
   ]
  },
  {
   "cell_type": "code",
   "execution_count": 22,
   "metadata": {},
   "outputs": [
    {
     "data": {
      "text/plain": [
       "{'LotArea': 0.017755558882009546}"
      ]
     },
     "execution_count": 22,
     "metadata": {},
     "output_type": "execute_result"
    }
   ],
   "source": [
    "# Yeo-Johnson\n",
    "yeo_transformer = YeoJohnsonTransformer(\n",
    "    variables=['LotArea']\n",
    ")\n",
    "\n",
    "X_train = yeo_transformer.fit_transform(X_train)\n",
    "X_test = yeo_transformer.transform(X_test)\n",
    "\n",
    "# the learned parameter\n",
    "yeo_transformer.lambda_dict_"
   ]
  },
  {
   "cell_type": "code",
   "execution_count": 23,
   "metadata": {},
   "outputs": [
    {
     "data": {
      "text/html": [
       "<div>\n",
       "<style scoped>\n",
       "    .dataframe tbody tr th:only-of-type {\n",
       "        vertical-align: middle;\n",
       "    }\n",
       "\n",
       "    .dataframe tbody tr th {\n",
       "        vertical-align: top;\n",
       "    }\n",
       "\n",
       "    .dataframe thead th {\n",
       "        text-align: right;\n",
       "    }\n",
       "</style>\n",
       "<table border=\"1\" class=\"dataframe\">\n",
       "  <thead>\n",
       "    <tr style=\"text-align: right;\">\n",
       "      <th></th>\n",
       "      <th>BsmtFinSF2</th>\n",
       "      <th>LowQualFinSF</th>\n",
       "      <th>EnclosedPorch</th>\n",
       "      <th>3SsnPorch</th>\n",
       "      <th>ScreenPorch</th>\n",
       "      <th>MiscVal</th>\n",
       "    </tr>\n",
       "  </thead>\n",
       "  <tbody>\n",
       "    <tr>\n",
       "      <th>930</th>\n",
       "      <td>0</td>\n",
       "      <td>0</td>\n",
       "      <td>0</td>\n",
       "      <td>0</td>\n",
       "      <td>0</td>\n",
       "      <td>0</td>\n",
       "    </tr>\n",
       "    <tr>\n",
       "      <th>656</th>\n",
       "      <td>0</td>\n",
       "      <td>0</td>\n",
       "      <td>0</td>\n",
       "      <td>0</td>\n",
       "      <td>0</td>\n",
       "      <td>0</td>\n",
       "    </tr>\n",
       "    <tr>\n",
       "      <th>45</th>\n",
       "      <td>0</td>\n",
       "      <td>0</td>\n",
       "      <td>0</td>\n",
       "      <td>0</td>\n",
       "      <td>0</td>\n",
       "      <td>0</td>\n",
       "    </tr>\n",
       "    <tr>\n",
       "      <th>1348</th>\n",
       "      <td>0</td>\n",
       "      <td>0</td>\n",
       "      <td>0</td>\n",
       "      <td>0</td>\n",
       "      <td>0</td>\n",
       "      <td>0</td>\n",
       "    </tr>\n",
       "    <tr>\n",
       "      <th>55</th>\n",
       "      <td>0</td>\n",
       "      <td>0</td>\n",
       "      <td>0</td>\n",
       "      <td>407</td>\n",
       "      <td>0</td>\n",
       "      <td>0</td>\n",
       "    </tr>\n",
       "  </tbody>\n",
       "</table>\n",
       "</div>"
      ],
      "text/plain": [
       "      BsmtFinSF2  LowQualFinSF  EnclosedPorch  3SsnPorch  ScreenPorch  MiscVal\n",
       "930            0             0              0          0            0        0\n",
       "656            0             0              0          0            0        0\n",
       "45             0             0              0          0            0        0\n",
       "1348           0             0              0          0            0        0\n",
       "55             0             0              0        407            0        0"
      ]
     },
     "execution_count": 23,
     "metadata": {},
     "output_type": "execute_result"
    }
   ],
   "source": [
    "# Binarize skewed variables\n",
    "\n",
    "skewed = ['BsmtFinSF2', 'LowQualFinSF', 'EnclosedPorch', '3SsnPorch',\n",
    "          'ScreenPorch', 'MiscVal']\n",
    "\n",
    "X_train[skewed].head()"
   ]
  },
  {
   "cell_type": "code",
   "execution_count": 24,
   "metadata": {},
   "outputs": [
    {
     "data": {
      "text/html": [
       "<div>\n",
       "<style scoped>\n",
       "    .dataframe tbody tr th:only-of-type {\n",
       "        vertical-align: middle;\n",
       "    }\n",
       "\n",
       "    .dataframe tbody tr th {\n",
       "        vertical-align: top;\n",
       "    }\n",
       "\n",
       "    .dataframe thead th {\n",
       "        text-align: right;\n",
       "    }\n",
       "</style>\n",
       "<table border=\"1\" class=\"dataframe\">\n",
       "  <thead>\n",
       "    <tr style=\"text-align: right;\">\n",
       "      <th></th>\n",
       "      <th>BsmtFinSF2</th>\n",
       "      <th>LowQualFinSF</th>\n",
       "      <th>EnclosedPorch</th>\n",
       "      <th>3SsnPorch</th>\n",
       "      <th>ScreenPorch</th>\n",
       "      <th>MiscVal</th>\n",
       "    </tr>\n",
       "  </thead>\n",
       "  <tbody>\n",
       "    <tr>\n",
       "      <th>930</th>\n",
       "      <td>0</td>\n",
       "      <td>0</td>\n",
       "      <td>0</td>\n",
       "      <td>0</td>\n",
       "      <td>0</td>\n",
       "      <td>0</td>\n",
       "    </tr>\n",
       "    <tr>\n",
       "      <th>656</th>\n",
       "      <td>0</td>\n",
       "      <td>0</td>\n",
       "      <td>0</td>\n",
       "      <td>0</td>\n",
       "      <td>0</td>\n",
       "      <td>0</td>\n",
       "    </tr>\n",
       "    <tr>\n",
       "      <th>45</th>\n",
       "      <td>0</td>\n",
       "      <td>0</td>\n",
       "      <td>0</td>\n",
       "      <td>0</td>\n",
       "      <td>0</td>\n",
       "      <td>0</td>\n",
       "    </tr>\n",
       "    <tr>\n",
       "      <th>1348</th>\n",
       "      <td>0</td>\n",
       "      <td>0</td>\n",
       "      <td>0</td>\n",
       "      <td>0</td>\n",
       "      <td>0</td>\n",
       "      <td>0</td>\n",
       "    </tr>\n",
       "    <tr>\n",
       "      <th>55</th>\n",
       "      <td>0</td>\n",
       "      <td>0</td>\n",
       "      <td>0</td>\n",
       "      <td>1</td>\n",
       "      <td>0</td>\n",
       "      <td>0</td>\n",
       "    </tr>\n",
       "  </tbody>\n",
       "</table>\n",
       "</div>"
      ],
      "text/plain": [
       "      BsmtFinSF2  LowQualFinSF  EnclosedPorch  3SsnPorch  ScreenPorch  MiscVal\n",
       "930            0             0              0          0            0        0\n",
       "656            0             0              0          0            0        0\n",
       "45             0             0              0          0            0        0\n",
       "1348           0             0              0          0            0        0\n",
       "55             0             0              0          1            0        0"
      ]
     },
     "execution_count": 24,
     "metadata": {},
     "output_type": "execute_result"
    }
   ],
   "source": [
    "binarizer = SklearnTransformerWrapper(\n",
    "    transformer=Binarizer(threshold=0), variables=skewed\n",
    ")\n",
    "\n",
    "X_train = binarizer.fit_transform(X_train)\n",
    "X_test = binarizer.transform(X_test)\n",
    "\n",
    "X_train[skewed].head()"
   ]
  },
  {
   "cell_type": "code",
   "execution_count": 25,
   "metadata": {},
   "outputs": [],
   "source": [
    "# Specific mappings for Categorical Variables\n",
    "\n",
    "qual_mappings = {'Po': 1, 'Fa': 2, 'TA': 3, 'Gd': 4, 'Ex': 5, 'Missing': 0,\n",
    "                 'NA': 0}\n",
    "qual_vars = ['ExterQual', 'ExterCond', 'BsmtQual', 'BsmtCond', 'HeatingQC',\n",
    "             'KitchenQual', 'FireplaceQu', 'GarageQual', 'GarageCond']\n",
    "\n",
    "for var in qual_vars:\n",
    "    X_train[var] = X_train[var].map(qual_mappings)    \n",
    "    X_test[var] = X_test[var].map(qual_mappings)\n",
    "\n",
    "exposure_mappings = {'No': 1, 'Mn': 2, 'Av': 3, 'Gd': 4, 'Missing': 0, 'NA': 0}\n",
    "var = 'BsmtExposure'\n",
    "X_train[var] = X_train[var].map(exposure_mappings)\n",
    "X_test[var] = X_test[var].map(exposure_mappings)\n",
    "\n",
    "fisish_mappings = {'Missing': 0, 'NA': 0, 'Unf': 1, 'LwQ': 2, 'Rec': 2,\n",
    "                   'BLQ': 4, 'ALQ': 5, 'GLQ': 6}\n",
    "finish_vars = ['BsmtFinType1', 'BsmtFinType2']\n",
    "for var in finish_vars:\n",
    "    X_train[var] = X_train[var].map(fisish_mappings)\n",
    "    X_test[var] = X_test[var].map(fisish_mappings)\n",
    "\n",
    "garage_mappings = {'Missing': 0, 'NA': 0, 'Unf': 1, 'RFn': 2, 'Fin': 3}\n",
    "var = 'GarageFinish'\n",
    "X_train[var] = X_train[var].map(garage_mappings)\n",
    "X_test[var] = X_test[var].map(garage_mappings)\n",
    "\n",
    "fence_mappings = {'Missing': 0, 'NA': 0, 'MnWw': 1, 'GdWo': 2, 'MnPrv': 3,\n",
    "                  'GdPrv': 4}\n",
    "var = 'Fence'\n",
    "X_train[var] = X_train[var].map(fence_mappings)\n",
    "X_test[var] = X_test[var].map(fence_mappings)\n",
    "\n",
    "qual_vars = qual_vars + finish_vars + ['BsmtExposure', 'GarageFinish', 'Fence']"
   ]
  },
  {
   "cell_type": "code",
   "execution_count": 32,
   "metadata": {},
   "outputs": [
    {
     "name": "stdout",
     "output_type": "stream",
     "text": [
      "30\n",
      "['MSZoning', 'Street', 'Alley', 'LotShape', 'LandContour', 'Utilities', 'LotConfig', 'LandSlope', 'Neighborhood', 'Condition1', 'Condition2', 'BldgType', 'HouseStyle', 'RoofStyle', 'RoofMatl', 'Exterior1st', 'Exterior2nd', 'MasVnrType', 'Foundation', 'Heating', 'CentralAir', 'Electrical', 'Functional', 'GarageType', 'PavedDrive', 'PoolQC', 'MiscFeature', 'SaleType', 'SaleCondition', 'MSSubClass']\n"
     ]
    }
   ],
   "source": [
    "# Remove rare labels\n",
    "# remaining categorical variables\n",
    " \n",
    "cat_others = [\n",
    "    var for var in cat_vars if var not in qual_vars\n",
    "]\n",
    "print(len(cat_others))\n",
    "print(cat_others)"
   ]
  },
  {
   "cell_type": "code",
   "execution_count": 34,
   "metadata": {},
   "outputs": [],
   "source": [
    "X_train['MSSubClass'] = X_train['MSSubClass'].astype('O')"
   ]
  },
  {
   "cell_type": "code",
   "execution_count": 35,
   "metadata": {},
   "outputs": [
    {
     "data": {
      "text/plain": [
       "{'MSZoning': ['RL', 'RM', 'FV', 'RH'],\n",
       " 'Street': ['Pave'],\n",
       " 'Alley': ['Missing', 'Grvl', 'Pave'],\n",
       " 'LotShape': ['Reg', 'IR1', 'IR2'],\n",
       " 'LandContour': ['Lvl', 'Bnk', 'HLS', 'Low'],\n",
       " 'Utilities': ['AllPub'],\n",
       " 'LotConfig': ['Inside', 'Corner', 'CulDSac', 'FR2'],\n",
       " 'LandSlope': ['Gtl', 'Mod'],\n",
       " 'Neighborhood': ['NAmes',\n",
       "  'CollgCr',\n",
       "  'OldTown',\n",
       "  'Edwards',\n",
       "  'Somerst',\n",
       "  'NridgHt',\n",
       "  'Gilbert',\n",
       "  'Sawyer',\n",
       "  'NWAmes',\n",
       "  'BrkSide',\n",
       "  'SawyerW',\n",
       "  'Crawfor',\n",
       "  'Mitchel',\n",
       "  'Timber',\n",
       "  'NoRidge',\n",
       "  'IDOTRR',\n",
       "  'ClearCr',\n",
       "  'SWISU',\n",
       "  'StoneBr',\n",
       "  'Blmngtn',\n",
       "  'MeadowV',\n",
       "  'BrDale'],\n",
       " 'Condition1': ['Norm', 'Feedr', 'Artery', 'RRAn', 'PosN'],\n",
       " 'Condition2': ['Norm'],\n",
       " 'BldgType': ['1Fam', 'TwnhsE', 'Duplex', 'Twnhs', '2fmCon'],\n",
       " 'HouseStyle': ['1Story', '2Story', '1.5Fin', 'SLvl', 'SFoyer'],\n",
       " 'RoofStyle': ['Gable', 'Hip'],\n",
       " 'RoofMatl': ['CompShg'],\n",
       " 'Exterior1st': ['VinylSd',\n",
       "  'HdBoard',\n",
       "  'Wd Sdng',\n",
       "  'MetalSd',\n",
       "  'Plywood',\n",
       "  'CemntBd',\n",
       "  'BrkFace',\n",
       "  'Stucco',\n",
       "  'WdShing',\n",
       "  'AsbShng'],\n",
       " 'Exterior2nd': ['VinylSd',\n",
       "  'HdBoard',\n",
       "  'Wd Sdng',\n",
       "  'MetalSd',\n",
       "  'Plywood',\n",
       "  'CmentBd',\n",
       "  'Wd Shng',\n",
       "  'BrkFace',\n",
       "  'Stucco',\n",
       "  'AsbShng'],\n",
       " 'MasVnrType': ['Missing', 'BrkFace', 'Stone'],\n",
       " 'Foundation': ['PConc', 'CBlock', 'BrkTil', 'Slab'],\n",
       " 'Heating': ['GasA', 'GasW'],\n",
       " 'CentralAir': ['Y', 'N'],\n",
       " 'Electrical': ['SBrkr', 'FuseA', 'FuseF'],\n",
       " 'Functional': ['Typ', 'Min2', 'Min1', 'Mod'],\n",
       " 'GarageType': ['Attchd', 'Detchd', 'BuiltIn', 'Basment'],\n",
       " 'PavedDrive': ['Y', 'N', 'P'],\n",
       " 'PoolQC': ['Missing'],\n",
       " 'MiscFeature': ['Missing', 'Shed'],\n",
       " 'SaleType': ['WD', 'New', 'COD'],\n",
       " 'SaleCondition': ['Normal', 'Partial', 'Abnorml', 'Family'],\n",
       " 'MSSubClass': [20, 60, 50, 120, 30, 160, 70, 80, 90, 190, 75, 85]}"
      ]
     },
     "execution_count": 35,
     "metadata": {},
     "output_type": "execute_result"
    }
   ],
   "source": [
    "rare_encoder = RareLabelEncoder(tol=0.01, n_categories=1, variables=cat_others)\n",
    "\n",
    "rare_encoder.fit(X_train)\n",
    "\n",
    "rare_encoder.encoder_dict_"
   ]
  },
  {
   "cell_type": "code",
   "execution_count": 39,
   "metadata": {},
   "outputs": [],
   "source": [
    "X_train = rare_encoder.fit_transform(X_train)\n",
    "X_test = rare_encoder.transform(X_test)"
   ]
  },
  {
   "cell_type": "code",
   "execution_count": 43,
   "metadata": {},
   "outputs": [
    {
     "data": {
      "text/plain": [
       "{'MSZoning': {'Rare': 0, 'RM': 1, 'RH': 2, 'RL': 3, 'FV': 4},\n",
       " 'Street': {'Rare': 0, 'Pave': 1},\n",
       " 'Alley': {'Grvl': 0, 'Pave': 1, 'Missing': 2},\n",
       " 'LotShape': {'Reg': 0, 'IR1': 1, 'Rare': 2, 'IR2': 3},\n",
       " 'LandContour': {'Bnk': 0, 'Lvl': 1, 'Low': 2, 'HLS': 3},\n",
       " 'Utilities': {'Rare': 0, 'AllPub': 1},\n",
       " 'LotConfig': {'Inside': 0, 'FR2': 1, 'Corner': 2, 'Rare': 3, 'CulDSac': 4},\n",
       " 'LandSlope': {'Gtl': 0, 'Mod': 1, 'Rare': 2},\n",
       " 'Neighborhood': {'IDOTRR': 0,\n",
       "  'MeadowV': 1,\n",
       "  'BrDale': 2,\n",
       "  'Edwards': 3,\n",
       "  'BrkSide': 4,\n",
       "  'OldTown': 5,\n",
       "  'Sawyer': 6,\n",
       "  'SWISU': 7,\n",
       "  'NAmes': 8,\n",
       "  'Mitchel': 9,\n",
       "  'SawyerW': 10,\n",
       "  'Rare': 11,\n",
       "  'NWAmes': 12,\n",
       "  'Gilbert': 13,\n",
       "  'Blmngtn': 14,\n",
       "  'CollgCr': 15,\n",
       "  'Crawfor': 16,\n",
       "  'ClearCr': 17,\n",
       "  'Somerst': 18,\n",
       "  'Timber': 19,\n",
       "  'StoneBr': 20,\n",
       "  'NridgHt': 21,\n",
       "  'NoRidge': 22},\n",
       " 'Condition1': {'Artery': 0,\n",
       "  'Feedr': 1,\n",
       "  'Norm': 2,\n",
       "  'RRAn': 3,\n",
       "  'Rare': 4,\n",
       "  'PosN': 5},\n",
       " 'Condition2': {'Rare': 0, 'Norm': 1},\n",
       " 'BldgType': {'2fmCon': 0, 'Duplex': 1, 'Twnhs': 2, '1Fam': 3, 'TwnhsE': 4},\n",
       " 'HouseStyle': {'SFoyer': 0,\n",
       "  '1.5Fin': 1,\n",
       "  'Rare': 2,\n",
       "  '1Story': 3,\n",
       "  'SLvl': 4,\n",
       "  '2Story': 5},\n",
       " 'RoofStyle': {'Gable': 0, 'Rare': 1, 'Hip': 2},\n",
       " 'RoofMatl': {'CompShg': 0, 'Rare': 1},\n",
       " 'Exterior1st': {'AsbShng': 0,\n",
       "  'Wd Sdng': 1,\n",
       "  'WdShing': 2,\n",
       "  'MetalSd': 3,\n",
       "  'Stucco': 4,\n",
       "  'Rare': 5,\n",
       "  'HdBoard': 6,\n",
       "  'Plywood': 7,\n",
       "  'BrkFace': 8,\n",
       "  'CemntBd': 9,\n",
       "  'VinylSd': 10},\n",
       " 'Exterior2nd': {'AsbShng': 0,\n",
       "  'Wd Sdng': 1,\n",
       "  'MetalSd': 2,\n",
       "  'Wd Shng': 3,\n",
       "  'Stucco': 4,\n",
       "  'Rare': 5,\n",
       "  'HdBoard': 6,\n",
       "  'Plywood': 7,\n",
       "  'BrkFace': 8,\n",
       "  'CmentBd': 9,\n",
       "  'VinylSd': 10},\n",
       " 'MasVnrType': {'Rare': 0, 'Missing': 1, 'BrkFace': 2, 'Stone': 3},\n",
       " 'Foundation': {'Slab': 0, 'BrkTil': 1, 'CBlock': 2, 'Rare': 3, 'PConc': 4},\n",
       " 'Heating': {'Rare': 0, 'GasW': 1, 'GasA': 2},\n",
       " 'CentralAir': {'N': 0, 'Y': 1},\n",
       " 'Electrical': {'Rare': 0, 'FuseF': 1, 'FuseA': 2, 'SBrkr': 3},\n",
       " 'Functional': {'Rare': 0, 'Min2': 1, 'Mod': 2, 'Min1': 3, 'Typ': 4},\n",
       " 'GarageType': {'Rare': 0,\n",
       "  'Detchd': 1,\n",
       "  'Basment': 2,\n",
       "  'Attchd': 3,\n",
       "  'BuiltIn': 4},\n",
       " 'PavedDrive': {'N': 0, 'P': 1, 'Y': 2},\n",
       " 'PoolQC': {'Missing': 0, 'Rare': 1},\n",
       " 'MiscFeature': {'Rare': 0, 'Shed': 1, 'Missing': 2},\n",
       " 'SaleType': {'COD': 0, 'Rare': 1, 'WD': 2, 'New': 3},\n",
       " 'SaleCondition': {'Rare': 0,\n",
       "  'Abnorml': 1,\n",
       "  'Family': 2,\n",
       "  'Normal': 3,\n",
       "  'Partial': 4},\n",
       " 'MSSubClass': {30: 0,\n",
       "  'Rare': 1,\n",
       "  190: 2,\n",
       "  90: 3,\n",
       "  160: 4,\n",
       "  50: 5,\n",
       "  85: 6,\n",
       "  70: 7,\n",
       "  80: 8,\n",
       "  20: 9,\n",
       "  75: 10,\n",
       "  120: 11,\n",
       "  60: 12}}"
      ]
     },
     "execution_count": 43,
     "metadata": {},
     "output_type": "execute_result"
    }
   ],
   "source": [
    "# ordinal enconding\n",
    "cat_encoder = OrdinalEncoder(encoding_method='ordered', variables=cat_others)\n",
    "cat_encoder.fit(X_train, y_train)\n",
    "cat_encoder.encoder_dict_"
   ]
  },
  {
   "cell_type": "code",
   "execution_count": 44,
   "metadata": {},
   "outputs": [],
   "source": [
    "X_train = cat_encoder.transform(X_train)\n",
    "X_test = cat_encoder.transform(X_test)"
   ]
  },
  {
   "cell_type": "code",
   "execution_count": 46,
   "metadata": {},
   "outputs": [],
   "source": [
    "# Feature Scaling\n",
    "\n",
    "scaler = MinMaxScaler()\n",
    "scaler.fit(X_train)\n",
    "\n",
    "X_train = pd.DataFrame(\n",
    "    scaler.transform(X_train),\n",
    "    columns=X_train.columns\n",
    ")\n",
    "X_test = pd.DataFrame(\n",
    "    scaler.transform(X_test),\n",
    "    columns=X_train.columns\n",
    ")"
   ]
  },
  {
   "cell_type": "code",
   "execution_count": null,
   "metadata": {},
   "outputs": [],
   "source": []
  },
  {
   "cell_type": "code",
   "execution_count": 51,
   "metadata": {},
   "outputs": [],
   "source": [
    "class MeanImputer:\n",
    "    def __init__(self, variables) -> None:\n",
    "        self.variables = variables\n",
    "\n",
    "    def fit(self, X, y=None):\n",
    "        self.imputer_dict_ = X[self.variables].mean().to_dict()\n",
    "        return self\n",
    "    \n",
    "    def transform(self, X):\n",
    "        for var in self.variables:\n",
    "            X[var] = X[var].fillna(self.imputer_dict_[var])\n",
    "        return X"
   ]
  },
  {
   "cell_type": "code",
   "execution_count": 52,
   "metadata": {},
   "outputs": [
    {
     "data": {
      "text/plain": [
       "{'Neighborhood': 0.49197453991974543, 'MSZoning': 0.6767503805175038}"
      ]
     },
     "execution_count": 52,
     "metadata": {},
     "output_type": "execute_result"
    }
   ],
   "source": [
    "my_imputer = MeanImputer(variables=['Neighborhood', 'MSZoning'])\n",
    "my_imputer.fit(X_train)\n",
    "my_imputer.imputer_dict_"
   ]
  },
  {
   "cell_type": "code",
   "execution_count": 54,
   "metadata": {},
   "outputs": [],
   "source": [
    "temp = my_imputer.transform(X_train)"
   ]
  }
 ],
 "metadata": {
  "kernelspec": {
   "display_name": "Python 3",
   "language": "python",
   "name": "python3"
  },
  "language_info": {
   "codemirror_mode": {
    "name": "ipython",
    "version": 3
   },
   "file_extension": ".py",
   "mimetype": "text/x-python",
   "name": "python",
   "nbconvert_exporter": "python",
   "pygments_lexer": "ipython3",
   "version": "3.10.11"
  },
  "orig_nbformat": 4,
  "vscode": {
   "interpreter": {
    "hash": "07491422174961e3509a6bd5f7bccd2c36592802c7b7225d12f0661f999904d5"
   }
  }
 },
 "nbformat": 4,
 "nbformat_minor": 2
}
