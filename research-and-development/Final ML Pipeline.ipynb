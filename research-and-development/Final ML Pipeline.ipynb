{
 "cells": [
  {
   "cell_type": "code",
   "execution_count": 1,
   "metadata": {},
   "outputs": [],
   "source": [
    "# handle datasets\n",
    "import pandas as pd\n",
    "import numpy as np\n",
    "# plotting\n",
    "import matplotlib.pyplot as plt\n",
    "# save the pipeline\n",
    "import joblib\n",
    "# from Scikit-learn\n",
    "from sklearn.pipeline import Pipeline\n",
    "from sklearn.model_selection import train_test_split\n",
    "from sklearn.preprocessing import MinMaxScaler, Binarizer\n",
    "from sklearn.feature_selection import SelectFromModel\n",
    "from sklearn.linear_model import Lasso\n",
    "from sklearn.metrics import mean_squared_error, r2_score\n",
    "# from feature-engine\n",
    "from feature_engine.imputation import (\n",
    "    AddMissingIndicator,\n",
    "    MeanMedianImputer,\n",
    "    CategoricalImputer,\n",
    ")\n",
    "from feature_engine.encoding import (\n",
    "    RareLabelEncoder,\n",
    "    OrdinalEncoder,\n",
    ")\n",
    "from feature_engine.transformation import (\n",
    "    LogTransformer,\n",
    "    YeoJohnsonTransformer,\n",
    ")\n",
    "from feature_engine.selection import DropFeatures\n",
    "from feature_engine.wrappers import SklearnTransformerWrapper\n",
    "\n",
    "import preprocessors as pp\n",
    "\n",
    "# pandas display options\n",
    "pd.pandas.set_option('display.max_columns', None)"
   ]
  },
  {
   "cell_type": "code",
   "execution_count": 2,
   "metadata": {},
   "outputs": [],
   "source": [
    "# categorical variables with NA in train set\n",
    "CATEGORICAL_VARS_WITH_NA_FREQUENT = ['BsmtQual', 'BsmtExposure',\n",
    "                                     'BsmtFinType1', 'GarageFinish']\n",
    "\n",
    "\n",
    "CATEGORICAL_VARS_WITH_NA_MISSING = ['FireplaceQu']\n",
    "\n",
    "\n",
    "# numerical variables with NA in train set\n",
    "NUMERICAL_VARS_WITH_NA = ['LotFrontage']\n",
    "\n",
    "\n",
    "TEMPORAL_VARS = ['YearRemodAdd']\n",
    "REF_VAR = \"YrSold\"\n",
    "\n",
    "# this variable is to calculate the temporal variable,\n",
    "# can be dropped afterwards\n",
    "DROP_FEATURES = [\"YrSold\"]\n",
    "\n",
    "# variables to log transform\n",
    "NUMERICALS_LOG_VARS = [\"LotFrontage\", \"1stFlrSF\", \"GrLivArea\"]\n",
    "\n",
    "\n",
    "# variables to binarize\n",
    "BINARIZE_VARS = ['ScreenPorch']\n",
    "\n",
    "# variables to map\n",
    "QUAL_VARS = ['ExterQual', 'BsmtQual',\n",
    "             'HeatingQC', 'KitchenQual', 'FireplaceQu']\n",
    "\n",
    "EXPOSURE_VARS = ['BsmtExposure']\n",
    "\n",
    "FINISH_VARS = ['BsmtFinType1']\n",
    "\n",
    "GARAGE_VARS = ['GarageFinish']\n",
    "\n",
    "FENCE_VARS = ['Fence']\n",
    "\n",
    "\n",
    "# categorical variables to encode\n",
    "CATEGORICAL_VARS = ['MSSubClass',  'MSZoning',  'LotShape',  'LandContour',\n",
    "                    'LotConfig', 'Neighborhood', 'RoofStyle', 'Exterior1st',\n",
    "                    'Foundation', 'CentralAir', 'Functional', 'PavedDrive',\n",
    "                    'SaleCondition']\n",
    "\n",
    "\n",
    "# variable mappings\n",
    "QUAL_MAPPINGS = {'Po': 1, 'Fa': 2, 'TA': 3,\n",
    "                 'Gd': 4, 'Ex': 5, 'Missing': 0, 'NA': 0}\n",
    "\n",
    "EXPOSURE_MAPPINGS = {'No': 1, 'Mn': 2, 'Av': 3, 'Gd': 4}\n",
    "\n",
    "FINISH_MAPPINGS = {'Missing': 0, 'NA': 0, 'Unf': 1,\n",
    "                   'LwQ': 2, 'Rec': 3, 'BLQ': 4, 'ALQ': 5, 'GLQ': 6}\n",
    "\n",
    "GARAGE_MAPPINGS = {'Missing': 0, 'NA': 0, 'Unf': 1, 'RFn': 2, 'Fin': 3}\n",
    "\n",
    "\n",
    "# the selected variables\n",
    "FEATURES = [\n",
    "    'MSSubClass',\n",
    "    'MSZoning',\n",
    "    'LotFrontage',\n",
    "    'LotShape',\n",
    "    'LandContour',\n",
    "    'LotConfig',\n",
    "    'Neighborhood',\n",
    "    'OverallQual',\n",
    "    'OverallCond',\n",
    "    'YearRemodAdd',\n",
    "    'RoofStyle',\n",
    "    'Exterior1st',\n",
    "    'ExterQual',\n",
    "    'Foundation',\n",
    "    'BsmtQual',\n",
    "    'BsmtExposure',\n",
    "    'BsmtFinType1',\n",
    "    'HeatingQC',\n",
    "    'CentralAir',\n",
    "    '1stFlrSF',\n",
    "    '2ndFlrSF',\n",
    "    'GrLivArea',\n",
    "    'BsmtFullBath',\n",
    "    'HalfBath',\n",
    "    'KitchenQual',\n",
    "    'TotRmsAbvGrd',\n",
    "    'Functional',\n",
    "    'Fireplaces',\n",
    "    'FireplaceQu',\n",
    "    'GarageFinish',\n",
    "    'GarageCars',\n",
    "    'GarageArea',\n",
    "    'PavedDrive',\n",
    "    'WoodDeckSF',\n",
    "    'ScreenPorch',\n",
    "    'SaleCondition',\n",
    "    # this one is only to calculate temporal variable:\n",
    "    \"YrSold\",\n",
    "]\n"
   ]
  },
  {
   "cell_type": "code",
   "execution_count": 3,
   "metadata": {},
   "outputs": [
    {
     "name": "stdout",
     "output_type": "stream",
     "text": [
      "(1460, 81)\n",
      "(1314, 79) (146, 79)\n",
      "(1314,) (146,)\n"
     ]
    }
   ],
   "source": [
    "# load dataset\n",
    "data = pd.read_csv('../datasets/train.csv')\n",
    "print(data.shape)\n",
    "\n",
    "# train/test split\n",
    "X_train, X_test, y_train, y_test = train_test_split(\n",
    "    data.drop(['Id', 'SalePrice'], axis=1),\n",
    "    data['SalePrice'],\n",
    "    test_size=0.1,\n",
    "    random_state=0\n",
    ")\n",
    "\n",
    "print(X_train.shape, X_test.shape)\n",
    "print(y_train.shape, y_test.shape)\n",
    "\n",
    "y_train = np.log(y_train)\n",
    "y_test = np.log(y_test)"
   ]
  },
  {
   "cell_type": "code",
   "execution_count": 4,
   "metadata": {},
   "outputs": [],
   "source": [
    "X_train = X_train[FEATURES]\n",
    "X_test = X_test[FEATURES]"
   ]
  },
  {
   "attachments": {},
   "cell_type": "markdown",
   "metadata": {},
   "source": [
    "## End-to-end Pipeline"
   ]
  },
  {
   "cell_type": "code",
   "execution_count": 5,
   "metadata": {},
   "outputs": [],
   "source": [
    "price_pipe = Pipeline([\n",
    "    ('missing_imputation', CategoricalImputer(\n",
    "        imputation_method='missing', variables=CATEGORICAL_VARS_WITH_NA_MISSING\n",
    "    )),\n",
    "    ('frequent_imputation', CategoricalImputer(\n",
    "        imputation_method='frequent', variables=CATEGORICAL_VARS_WITH_NA_FREQUENT\n",
    "    )),\n",
    "    # add missing indicator\n",
    "    ('missing_indicator', AddMissingIndicator(\n",
    "        variables=NUMERICAL_VARS_WITH_NA\n",
    "    )),\n",
    "    ('mean_imputation', MeanMedianImputer(\n",
    "        imputation_method='mean', variables=NUMERICAL_VARS_WITH_NA\n",
    "    )),\n",
    "    ('elapsed_time', pp.TemporalVariableTransformer(\n",
    "        variables=TEMPORAL_VARS, reference_variable=REF_VAR\n",
    "    )),\n",
    "    ('drop_features', DropFeatures(\n",
    "        features_to_drop=[REF_VAR]\n",
    "    )),\n",
    "    ('log', LogTransformer(\n",
    "        variables=NUMERICALS_LOG_VARS\n",
    "    )),\n",
    "    #('yeojohnson', YeoJohnsonTransformer(\n",
    "    #    variables=NUMERICALS_YEO_VARS\n",
    "    #)),\n",
    "    ('binarizer', SklearnTransformerWrapper(\n",
    "        transformer=Binarizer(threshold=0), variables=BINARIZE_VARS\n",
    "    )),\n",
    "    ('mapper_qual', pp.Mapper(\n",
    "        variables=QUAL_VARS, mappings=QUAL_MAPPINGS\n",
    "    )),\n",
    "    ('mapper_exposure', pp.Mapper(\n",
    "        variables=EXPOSURE_VARS, mappings=EXPOSURE_MAPPINGS\n",
    "    )),\n",
    "    ('mapper_finish', pp.Mapper(\n",
    "        variables=FINISH_VARS, mappings=FINISH_MAPPINGS\n",
    "    )),\n",
    "    ('mapper_garage', pp.Mapper(\n",
    "        variables=GARAGE_VARS, mappings=GARAGE_MAPPINGS\n",
    "    )),\n",
    "    #('mapper_fence', pp.Mapper(\n",
    "    #    variables=FENCE_VARS, mappings=FENCE_MAPPINGS\n",
    "    #)),\n",
    "    # ==== CATEGORICAL ENCONDING ====\n",
    "    ('rare_label_encoder', RareLabelEncoder(\n",
    "        tol=0.01, n_categories=1, variables=CATEGORICAL_VARS\n",
    "    )),\n",
    "    ('categorical_encoder', OrdinalEncoder(\n",
    "        encoding_method='ordered', variables=CATEGORICAL_VARS\n",
    "    )),\n",
    "    ('scaler', MinMaxScaler()),\n",
    "    ('Lasso', Lasso(alpha=0.001, random_state=0)),\n",
    "])"
   ]
  },
  {
   "cell_type": "code",
   "execution_count": 6,
   "metadata": {},
   "outputs": [
    {
     "data": {
      "text/plain": [
       "Pipeline(steps=[('missing_imputation',\n",
       "                 CategoricalImputer(variables=['FireplaceQu'])),\n",
       "                ('frequent_imputation',\n",
       "                 CategoricalImputer(imputation_method='frequent',\n",
       "                                    variables=['BsmtQual', 'BsmtExposure',\n",
       "                                               'BsmtFinType1',\n",
       "                                               'GarageFinish'])),\n",
       "                ('missing_indicator',\n",
       "                 AddMissingIndicator(variables=['LotFrontage'])),\n",
       "                ('mean_imputation',\n",
       "                 MeanMedianImputer(imputation_method=...\n",
       "                                             'Foundation', 'CentralAir',\n",
       "                                             'Functional', 'PavedDrive',\n",
       "                                             'SaleCondition'])),\n",
       "                ('categorical_encoder',\n",
       "                 OrdinalEncoder(variables=['MSSubClass', 'MSZoning', 'LotShape',\n",
       "                                           'LandContour', 'LotConfig',\n",
       "                                           'Neighborhood', 'RoofStyle',\n",
       "                                           'Exterior1st', 'Foundation',\n",
       "                                           'CentralAir', 'Functional',\n",
       "                                           'PavedDrive', 'SaleCondition'])),\n",
       "                ('scaler', MinMaxScaler()),\n",
       "                ('Lasso', Lasso(alpha=0.001, random_state=0))])"
      ]
     },
     "execution_count": 6,
     "metadata": {},
     "output_type": "execute_result"
    }
   ],
   "source": [
    "# Converta as variáveis categóricas para o tipo 'category'\n",
    "for col in CATEGORICAL_VARS:\n",
    "    X_train[col] = X_train[col].astype('category')\n",
    "    X_test[col] = X_test[col].astype('category')\n",
    "\n",
    "price_pipe.fit(X_train, y_train)"
   ]
  },
  {
   "cell_type": "code",
   "execution_count": 8,
   "metadata": {},
   "outputs": [
    {
     "name": "stdout",
     "output_type": "stream",
     "text": [
      "train mse: 781396630\n",
      "train_rmse: 27953\n",
      "train_r2: 0.8748530315439078\n",
      "\n",
      "train mse: 1060769014\n",
      "train_rmse: 32569\n",
      "train_r2: 0.8456415571208442\n",
      "\n",
      "Average house price: 181040\n"
     ]
    }
   ],
   "source": [
    "# Evaluate de model\n",
    "# -----------------\n",
    "\n",
    "# make predictions for train set\n",
    "pred = price_pipe.predict(X_train)\n",
    "# determine performance\n",
    "print('train mse: {}'.format(\n",
    "    int(mean_squared_error(np.exp(y_train), np.exp(pred)))\n",
    "))\n",
    "print('train_rmse: {}'.format(\n",
    "    int(mean_squared_error(np.exp(y_train), np.exp(pred), squared=False))\n",
    "))\n",
    "print('train_r2: {}'.format(\n",
    "    r2_score(np.exp(y_train), np.exp(pred))\n",
    "))\n",
    "print()\n",
    "\n",
    "# make predictions for test set\n",
    "pred = price_pipe.predict(X_test)\n",
    "# determine performance\n",
    "print('train mse: {}'.format(\n",
    "    int(mean_squared_error(np.exp(y_test), np.exp(pred)))\n",
    "))\n",
    "print('train_rmse: {}'.format(\n",
    "    int(mean_squared_error(np.exp(y_test), np.exp(pred), squared=False))\n",
    "))\n",
    "print('train_r2: {}'.format(\n",
    "    r2_score(np.exp(y_test), np.exp(pred))\n",
    "))\n",
    "print()\n",
    "\n",
    "print('Average house price: {}'.format(int(\n",
    "    np.exp(y_train).mean()\n",
    ")))"
   ]
  },
  {
   "cell_type": "code",
   "execution_count": 9,
   "metadata": {},
   "outputs": [
    {
     "data": {
      "text/plain": [
       "Text(0.5, 1.0, 'Evaluation of Lasso Predictions')"
      ]
     },
     "execution_count": 9,
     "metadata": {},
     "output_type": "execute_result"
    },
    {
     "data": {
      "image/png": "[encoded data removed]",
      "text/plain": [
       "<Figure size 640x480 with 1 Axes>"
      ]
     },
     "metadata": {},
     "output_type": "display_data"
    }
   ],
   "source": [
    "plt.scatter(y_test, price_pipe.predict(X_test))\n",
    "plt.xlabel('True House Prices')\n",
    "plt.ylabel('Predicted House Prices')\n",
    "plt.title('Evaluation of Lasso Predictions')"
   ]
  },
  {
   "cell_type": "code",
   "execution_count": 10,
   "metadata": {},
   "outputs": [
    {
     "data": {
      "image/png": "[encoded data removed]",
      "text/plain": [
       "<Figure size 640x480 with 1 Axes>"
      ]
     },
     "metadata": {},
     "output_type": "display_data"
    }
   ],
   "source": [
    "y_test.reset_index(drop=True, inplace=True)\n",
    "preds = pd.Series(price_pipe.predict(X_test))\n",
    "\n",
    "errors = y_test - preds\n",
    "errors.hist(bins=30)\n",
    "plt.show()"
   ]
  },
  {
   "cell_type": "code",
   "execution_count": 11,
   "metadata": {},
   "outputs": [
    {
     "data": {
      "text/plain": [
       "['price_pipe.joblib']"
      ]
     },
     "execution_count": 11,
     "metadata": {},
     "output_type": "execute_result"
    }
   ],
   "source": [
    "# save the whole pipeline\n",
    "joblib.dump(price_pipe, 'price_pipe.joblib')"
   ]
  },
  {
   "cell_type": "code",
   "execution_count": 17,
   "metadata": {},
   "outputs": [
    {
     "name": "stdout",
     "output_type": "stream",
     "text": [
      "(1459, 80)\n",
      "(1459, 37)\n"
     ]
    }
   ],
   "source": [
    "# Score new data\n",
    "# --------------\n",
    "\n",
    "data = pd.read_csv('../datasets/test.csv')\n",
    "print(data.shape)\n",
    "\n",
    "data.drop('Id', axis=1, inplace=True)\n",
    "data['MSSubClass'] = data['MSSubClass'].astype('O')\n",
    "data = data[FEATURES]\n",
    "print(data.shape)"
   ]
  },
  {
   "cell_type": "code",
   "execution_count": 18,
   "metadata": {},
   "outputs": [
    {
     "name": "stdout",
     "output_type": "stream",
     "text": [
      "['MSZoning', 'Exterior1st', 'BsmtFullBath', 'KitchenQual', 'Functional', 'GarageCars', 'GarageArea']\n"
     ]
    }
   ],
   "source": [
    "# the pipeline won't be able to score observations with NANs in features\n",
    "# that don't have NANs in the train set\n",
    "\n",
    "new_vars_with_na = [\n",
    "    var for var in FEATURES if var not in CATEGORICAL_VARS_WITH_NA_MISSING + \\\n",
    "    CATEGORICAL_VARS_WITH_NA_FREQUENT + NUMERICAL_VARS_WITH_NA \\\n",
    "        and data[var].isnull().sum() > 0 \n",
    "]\n",
    "\n",
    "print(new_vars_with_na)"
   ]
  },
  {
   "cell_type": "code",
   "execution_count": 19,
   "metadata": {},
   "outputs": [
    {
     "data": {
      "text/plain": [
       "MSZoning        0.002742\n",
       "Exterior1st     0.000685\n",
       "BsmtFullBath    0.001371\n",
       "KitchenQual     0.000685\n",
       "Functional      0.001371\n",
       "GarageCars      0.000685\n",
       "GarageArea      0.000685\n",
       "dtype: float64"
      ]
     },
     "execution_count": 19,
     "metadata": {},
     "output_type": "execute_result"
    }
   ],
   "source": [
    "data[new_vars_with_na].isnull().mean()"
   ]
  },
  {
   "cell_type": "code",
   "execution_count": 20,
   "metadata": {},
   "outputs": [
    {
     "name": "stdout",
     "output_type": "stream",
     "text": [
      "(1449, 37)\n"
     ]
    }
   ],
   "source": [
    "data.dropna(subset=new_vars_with_na, inplace=True)\n",
    "print(data.shape)"
   ]
  },
  {
   "cell_type": "code",
   "execution_count": 21,
   "metadata": {},
   "outputs": [
    {
     "name": "stderr",
     "output_type": "stream",
     "text": [
      "C:\\Users\\chafu\\AppData\\Local\\Packages\\PythonSoftwareFoundation.Python.3.10_qbz5n2kfra8p0\\LocalCache\\local-packages\\Python310\\site-packages\\feature_engine\\encoding\\rare_label.py:264: FutureWarning: Setting an item of incompatible dtype is deprecated and will raise an error in a future version of pandas. Value 'Rare' has dtype incompatible with int64, please explicitly cast to a compatible dtype first.\n",
      "  X.loc[~X[feature].isin(self.encoder_dict_[feature] + with_nan), feature] = (\n"
     ]
    },
    {
     "data": {
      "text/plain": [
       "<Axes: >"
      ]
     },
     "execution_count": 21,
     "metadata": {},
     "output_type": "execute_result"
    },
    {
     "data": {
      "image/png": "[encoded data removed]",
      "text/plain": [
       "<Figure size 640x480 with 1 Axes>"
      ]
     },
     "metadata": {},
     "output_type": "display_data"
    }
   ],
   "source": [
    "new_preds = price_pipe.predict(data)\n",
    "\n",
    "pd.Series(np.exp(new_preds)).hist(bins=50)"
   ]
  },
  {
   "cell_type": "code",
   "execution_count": null,
   "metadata": {},
   "outputs": [],
   "source": []
  }
 ],
 "metadata": {
  "kernelspec": {
   "display_name": "Python 3",
   "language": "python",
   "name": "python3"
  },
  "language_info": {
   "codemirror_mode": {
    "name": "ipython",
    "version": 3
   },
   "file_extension": ".py",
   "mimetype": "text/x-python",
   "name": "python",
   "nbconvert_exporter": "python",
   "pygments_lexer": "ipython3",
   "version": "3.10.11"
  },
  "orig_nbformat": 4,
  "vscode": {
   "interpreter": {
    "hash": "07491422174961e3509a6bd5f7bccd2c36592802c7b7225d12f0661f999904d5"
   }
  }
 },
 "nbformat": 4,
 "nbformat_minor": 2
}
